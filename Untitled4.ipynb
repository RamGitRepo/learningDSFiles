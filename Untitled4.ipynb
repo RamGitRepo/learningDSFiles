{
 "cells": [
  {
   "cell_type": "code",
   "execution_count": 4,
   "metadata": {},
   "outputs": [
    {
     "data": {
      "text/html": [
       "<div>\n",
       "<style scoped>\n",
       "    .dataframe tbody tr th:only-of-type {\n",
       "        vertical-align: middle;\n",
       "    }\n",
       "\n",
       "    .dataframe tbody tr th {\n",
       "        vertical-align: top;\n",
       "    }\n",
       "\n",
       "    .dataframe thead th {\n",
       "        text-align: right;\n",
       "    }\n",
       "</style>\n",
       "<table border=\"1\" class=\"dataframe\">\n",
       "  <thead>\n",
       "    <tr style=\"text-align: right;\">\n",
       "      <th></th>\n",
       "      <th>Day</th>\n",
       "      <th>Vegetable</th>\n",
       "      <th>Fruits</th>\n",
       "      <th>Price</th>\n",
       "      <th>Date</th>\n",
       "    </tr>\n",
       "  </thead>\n",
       "  <tbody>\n",
       "    <tr>\n",
       "      <th>0</th>\n",
       "      <td>Monday</td>\n",
       "      <td>Potato</td>\n",
       "      <td>Orange</td>\n",
       "      <td>50</td>\n",
       "      <td>02-05-2020</td>\n",
       "    </tr>\n",
       "    <tr>\n",
       "      <th>1</th>\n",
       "      <td>Monday</td>\n",
       "      <td>Carrot</td>\n",
       "      <td>Apple</td>\n",
       "      <td>195</td>\n",
       "      <td>02-05-2020</td>\n",
       "    </tr>\n",
       "    <tr>\n",
       "      <th>2</th>\n",
       "      <td>Monday</td>\n",
       "      <td>Brinjal</td>\n",
       "      <td>Jackfruit</td>\n",
       "      <td>37</td>\n",
       "      <td>04-05-2020</td>\n",
       "    </tr>\n",
       "    <tr>\n",
       "      <th>3</th>\n",
       "      <td>Monday</td>\n",
       "      <td>Beans</td>\n",
       "      <td>Sapota</td>\n",
       "      <td>200</td>\n",
       "      <td>05-05-2020</td>\n",
       "    </tr>\n",
       "    <tr>\n",
       "      <th>4</th>\n",
       "      <td>Sunday</td>\n",
       "      <td>Tomato</td>\n",
       "      <td>grape</td>\n",
       "      <td>46</td>\n",
       "      <td>02-05-2020</td>\n",
       "    </tr>\n",
       "    <tr>\n",
       "      <th>5</th>\n",
       "      <td>Sunday</td>\n",
       "      <td>Groom</td>\n",
       "      <td>Pomogrante</td>\n",
       "      <td>130</td>\n",
       "      <td>07-05-2020</td>\n",
       "    </tr>\n",
       "    <tr>\n",
       "      <th>6</th>\n",
       "      <td>Sunday</td>\n",
       "      <td>Chili</td>\n",
       "      <td>Sapota</td>\n",
       "      <td>60</td>\n",
       "      <td>08-05-2020</td>\n",
       "    </tr>\n",
       "  </tbody>\n",
       "</table>\n",
       "</div>"
      ],
      "text/plain": [
       "      Day Vegetable      Fruits  Price        Date\n",
       "0  Monday    Potato      Orange     50  02-05-2020\n",
       "1  Monday    Carrot       Apple    195  02-05-2020\n",
       "2  Monday   Brinjal   Jackfruit     37  04-05-2020\n",
       "3  Monday     Beans      Sapota    200  05-05-2020\n",
       "4  Sunday    Tomato       grape     46  02-05-2020\n",
       "5  Sunday     Groom  Pomogrante    130  07-05-2020\n",
       "6  Sunday     Chili      Sapota     60  08-05-2020"
      ]
     },
     "execution_count": 4,
     "metadata": {},
     "output_type": "execute_result"
    }
   ],
   "source": [
    "import pandas as pd\n",
    "df=pd.read_csv(\"C://Users//ramna//file//DataFrame//Budget.csv\")\n",
    "df"
   ]
  },
  {
   "cell_type": "code",
   "execution_count": 9,
   "metadata": {},
   "outputs": [
    {
     "name": "stdout",
     "output_type": "stream",
     "text": [
      "Monday\n",
      "      Day Vegetable     Fruits  Price        Date\n",
      "0  Monday    Potato     Orange     50  02-05-2020\n",
      "1  Monday    Carrot      Apple    195  02-05-2020\n",
      "2  Monday   Brinjal  Jackfruit     37  04-05-2020\n",
      "3  Monday     Beans     Sapota    200  05-05-2020\n",
      "Sunday\n",
      "      Day Vegetable      Fruits  Price        Date\n",
      "4  Sunday    Tomato       grape     46  02-05-2020\n",
      "5  Sunday     Groom  Pomogrante    130  07-05-2020\n",
      "6  Sunday     Chili      Sapota     60  08-05-2020\n"
     ]
    },
    {
     "data": {
      "text/html": [
       "<div>\n",
       "<style scoped>\n",
       "    .dataframe tbody tr th:only-of-type {\n",
       "        vertical-align: middle;\n",
       "    }\n",
       "\n",
       "    .dataframe tbody tr th {\n",
       "        vertical-align: top;\n",
       "    }\n",
       "\n",
       "    .dataframe thead th {\n",
       "        text-align: right;\n",
       "    }\n",
       "</style>\n",
       "<table border=\"1\" class=\"dataframe\">\n",
       "  <thead>\n",
       "    <tr style=\"text-align: right;\">\n",
       "      <th></th>\n",
       "      <th>Day</th>\n",
       "      <th>Vegetable</th>\n",
       "      <th>Fruits</th>\n",
       "      <th>Price</th>\n",
       "      <th>Date</th>\n",
       "    </tr>\n",
       "  </thead>\n",
       "  <tbody>\n",
       "    <tr>\n",
       "      <th>0</th>\n",
       "      <td>Monday</td>\n",
       "      <td>Potato</td>\n",
       "      <td>Orange</td>\n",
       "      <td>50</td>\n",
       "      <td>02-05-2020</td>\n",
       "    </tr>\n",
       "    <tr>\n",
       "      <th>1</th>\n",
       "      <td>Monday</td>\n",
       "      <td>Carrot</td>\n",
       "      <td>Apple</td>\n",
       "      <td>195</td>\n",
       "      <td>02-05-2020</td>\n",
       "    </tr>\n",
       "    <tr>\n",
       "      <th>2</th>\n",
       "      <td>Monday</td>\n",
       "      <td>Brinjal</td>\n",
       "      <td>Jackfruit</td>\n",
       "      <td>37</td>\n",
       "      <td>04-05-2020</td>\n",
       "    </tr>\n",
       "    <tr>\n",
       "      <th>3</th>\n",
       "      <td>Monday</td>\n",
       "      <td>Beans</td>\n",
       "      <td>Sapota</td>\n",
       "      <td>200</td>\n",
       "      <td>05-05-2020</td>\n",
       "    </tr>\n",
       "  </tbody>\n",
       "</table>\n",
       "</div>"
      ],
      "text/plain": [
       "      Day Vegetable     Fruits  Price        Date\n",
       "0  Monday    Potato     Orange     50  02-05-2020\n",
       "1  Monday    Carrot      Apple    195  02-05-2020\n",
       "2  Monday   Brinjal  Jackfruit     37  04-05-2020\n",
       "3  Monday     Beans     Sapota    200  05-05-2020"
      ]
     },
     "execution_count": 9,
     "metadata": {},
     "output_type": "execute_result"
    }
   ],
   "source": [
    "g=df.groupby(\"Day\")\n",
    "for Day, Day_df in g:\n",
    "    print(Day)\n",
    "    print(Day_df)\n",
    "\n",
    "    \n",
    "g.get_group(\"Monday\")"
   ]
  },
  {
   "cell_type": "code",
   "execution_count": 14,
   "metadata": {},
   "outputs": [
    {
     "data": {
      "text/html": [
       "<div>\n",
       "<style scoped>\n",
       "    .dataframe tbody tr th:only-of-type {\n",
       "        vertical-align: middle;\n",
       "    }\n",
       "\n",
       "    .dataframe tbody tr th {\n",
       "        vertical-align: top;\n",
       "    }\n",
       "\n",
       "    .dataframe thead tr th {\n",
       "        text-align: left;\n",
       "    }\n",
       "\n",
       "    .dataframe thead tr:last-of-type th {\n",
       "        text-align: right;\n",
       "    }\n",
       "</style>\n",
       "<table border=\"1\" class=\"dataframe\">\n",
       "  <thead>\n",
       "    <tr>\n",
       "      <th></th>\n",
       "      <th colspan=\"8\" halign=\"left\">Price</th>\n",
       "    </tr>\n",
       "    <tr>\n",
       "      <th></th>\n",
       "      <th>count</th>\n",
       "      <th>mean</th>\n",
       "      <th>std</th>\n",
       "      <th>min</th>\n",
       "      <th>25%</th>\n",
       "      <th>50%</th>\n",
       "      <th>75%</th>\n",
       "      <th>max</th>\n",
       "    </tr>\n",
       "    <tr>\n",
       "      <th>Day</th>\n",
       "      <th></th>\n",
       "      <th></th>\n",
       "      <th></th>\n",
       "      <th></th>\n",
       "      <th></th>\n",
       "      <th></th>\n",
       "      <th></th>\n",
       "      <th></th>\n",
       "    </tr>\n",
       "  </thead>\n",
       "  <tbody>\n",
       "    <tr>\n",
       "      <th>Monday</th>\n",
       "      <td>4.0</td>\n",
       "      <td>120.500000</td>\n",
       "      <td>89.093584</td>\n",
       "      <td>37.0</td>\n",
       "      <td>46.75</td>\n",
       "      <td>122.5</td>\n",
       "      <td>196.25</td>\n",
       "      <td>200.0</td>\n",
       "    </tr>\n",
       "    <tr>\n",
       "      <th>Sunday</th>\n",
       "      <td>3.0</td>\n",
       "      <td>78.666667</td>\n",
       "      <td>45.003704</td>\n",
       "      <td>46.0</td>\n",
       "      <td>53.00</td>\n",
       "      <td>60.0</td>\n",
       "      <td>95.00</td>\n",
       "      <td>130.0</td>\n",
       "    </tr>\n",
       "  </tbody>\n",
       "</table>\n",
       "</div>"
      ],
      "text/plain": [
       "       Price                                                          \n",
       "       count        mean        std   min    25%    50%     75%    max\n",
       "Day                                                                   \n",
       "Monday   4.0  120.500000  89.093584  37.0  46.75  122.5  196.25  200.0\n",
       "Sunday   3.0   78.666667  45.003704  46.0  53.00   60.0   95.00  130.0"
      ]
     },
     "execution_count": 14,
     "metadata": {},
     "output_type": "execute_result"
    }
   ],
   "source": [
    "g.describe()"
   ]
  },
  {
   "cell_type": "code",
   "execution_count": 17,
   "metadata": {},
   "outputs": [
    {
     "data": {
      "text/plain": [
       "Day\n",
       "Monday    AxesSubplot(0.125,0.125;0.775x0.755)\n",
       "Sunday    AxesSubplot(0.125,0.125;0.775x0.755)\n",
       "dtype: object"
      ]
     },
     "execution_count": 17,
     "metadata": {},
     "output_type": "execute_result"
    },
    {
     "data": {
      "image/png": "[encoded data removed]",
      "text/plain": [
       "<Figure size 432x288 with 1 Axes>"
      ]
     },
     "metadata": {
      "needs_background": "light"
     },
     "output_type": "display_data"
    },
    {
     "data": {
      "image/png": "[encoded data removed]",
      "text/plain": [
       "<Figure size 432x288 with 1 Axes>"
      ]
     },
     "metadata": {
      "needs_background": "light"
     },
     "output_type": "display_data"
    }
   ],
   "source": [
    "%matplotlib inline\n",
    "g.plot()"
   ]
  }
 ],
 "metadata": {
  "kernelspec": {
   "display_name": "Python 3",
   "language": "python",
   "name": "python3"
  },
  "language_info": {
   "codemirror_mode": {
    "name": "ipython",
    "version": 3
   },
   "file_extension": ".py",
   "mimetype": "text/x-python",
   "name": "python",
   "nbconvert_exporter": "python",
   "pygments_lexer": "ipython3",
   "version": "3.7.6"
  }
 },
 "nbformat": 4,
 "nbformat_minor": 4
}
