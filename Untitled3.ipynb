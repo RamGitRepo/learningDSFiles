{
 "cells": [
  {
   "cell_type": "code",
   "execution_count": 52,
   "metadata": {},
   "outputs": [],
   "source": [
    "import pandas as pd\n",
    "def convert_Price(cell):\n",
    "    if cell==\"n.a\":\n",
    "        return \"ram\"\n",
    "    return cell\n",
    "def covert_Vegetable(cell):\n",
    "    if cell==\"Potato\":\n",
    "        return \"Plums\"\n",
    "    return cell\n",
    "df=pd.read_excel(\"C://Users//ramna//file//DataFrame//BudgetCalc.xlsx\",\"Budget\", converters={\n",
    "    \"Price\":convert_Price,\n",
    "    \"Vegetable\":covert_Vegetable\n",
    "})"
   ]
  },
  {
   "cell_type": "code",
   "execution_count": 58,
   "metadata": {},
   "outputs": [],
   "source": [
    "df.to_excel(\"C://Users//ramna//file//DataFrame//CopyBudgetCalc.xlsx\",sheet_name=\"CopyBudget\",startrow=1,startcol=2)"
   ]
  },
  {
   "cell_type": "code",
   "execution_count": 76,
   "metadata": {},
   "outputs": [],
   "source": [
    "budget=pd.DataFrame({\n",
    "    'Day':['Monday','Tuesday','Wednesday','Thursday','Friday','Saturday','Sunday'],\n",
    "    'Vegetable':['Potato','Carrot','Brinjal','Beans','Tomato','Onions','Chilli'],\n",
    "    'Fruits':['Orange','Apple','Jackfruit','Banana','Papaya','Pomogrante','Sapota'],\n",
    "    'Price':['50','195','37','25','46','130','60'],\n",
    "    'Date':['02-05-2020','03-05-2020','04-05-2020','04-05-2020','05-05-2020','07-05-2020','08-05-2020']\n",
    "})\n",
    "\n",
    "expense=pd.DataFrame({\n",
    "    'Day':['Monday','Tuesday','Wednesday','Thursday','Friday','Saturday','Sunday'],\n",
    "    'Vegetable':['Potato','Carrot','Brinjal','Beans','Tomato','Onions','Chilli'],\n",
    "    'Fruits':['Orange','Apple','Jackfruit','Banana','Papaya','Pomogrante','Sapota'],\n",
    "    'Price':['100','1000','5000','25','46','200','60'],\n",
    "    'Date':['02-05-2019','03-05-2019','04-05-2019','04-05-2019','05-05-2019','07-05-2019','08-05-2019']\n",
    "})"
   ]
  },
  {
   "cell_type": "code",
   "execution_count": 78,
   "metadata": {},
   "outputs": [],
   "source": [
    "with pd.ExcelWriter(\"C://Users//ramna//file//DataFrame//BudgetYear.xlsx\") as writer:\n",
    "    budget.to_excel(writer, sheet_name=\"Budget2019\")\n",
    "    expense.to_excel(writer, sheet_name=\"Budget2020\")"
   ]
  }
 ],
 "metadata": {
  "kernelspec": {
   "display_name": "Python 3",
   "language": "python",
   "name": "python3"
  },
  "language_info": {
   "codemirror_mode": {
    "name": "ipython",
    "version": 3
   },
   "file_extension": ".py",
   "mimetype": "text/x-python",
   "name": "python",
   "nbconvert_exporter": "python",
   "pygments_lexer": "ipython3",
   "version": "3.7.6"
  }
 },
 "nbformat": 4,
 "nbformat_minor": 4
}
